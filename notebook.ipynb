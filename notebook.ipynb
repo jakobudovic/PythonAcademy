{
 "cells": [
  {
   "cell_type": "code",
   "execution_count": 1,
   "id": "80f585bf",
   "metadata": {
    "scrolled": true
   },
   "outputs": [
    {
     "name": "stdout",
     "output_type": "stream",
     "text": [
      "Requirement already satisfied: pandas in /Users/jakobudovic/.pyenv/versions/3.10.6/lib/python3.10/site-packages (1.4.3)\n",
      "Requirement already satisfied: pytz>=2020.1 in /Users/jakobudovic/.pyenv/versions/3.10.6/lib/python3.10/site-packages (from pandas) (2022.2.1)\n",
      "Requirement already satisfied: python-dateutil>=2.8.1 in /Users/jakobudovic/.pyenv/versions/3.10.6/lib/python3.10/site-packages (from pandas) (2.8.2)\n",
      "Requirement already satisfied: numpy>=1.21.0 in /Users/jakobudovic/.pyenv/versions/3.10.6/lib/python3.10/site-packages (from pandas) (1.23.4)\n",
      "Requirement already satisfied: six>=1.5 in /Users/jakobudovic/.pyenv/versions/3.10.6/lib/python3.10/site-packages (from python-dateutil>=2.8.1->pandas) (1.16.0)\n",
      "\n",
      "\u001b[1m[\u001b[0m\u001b[34;49mnotice\u001b[0m\u001b[1;39;49m]\u001b[0m\u001b[39;49m A new release of pip is available: \u001b[0m\u001b[31;49m23.0\u001b[0m\u001b[39;49m -> \u001b[0m\u001b[32;49m23.0.1\u001b[0m\n",
      "\u001b[1m[\u001b[0m\u001b[34;49mnotice\u001b[0m\u001b[1;39;49m]\u001b[0m\u001b[39;49m To update, run: \u001b[0m\u001b[32;49mpip install --upgrade pip\u001b[0m\n",
      "Note: you may need to restart the kernel to use updated packages.\n"
     ]
    }
   ],
   "source": [
    "pip install pandas"
   ]
  },
  {
   "cell_type": "code",
   "execution_count": 2,
   "id": "0d2ff1dc",
   "metadata": {},
   "outputs": [
    {
     "ename": "SyntaxError",
     "evalue": "invalid syntax (728349862.py, line 1)",
     "output_type": "error",
     "traceback": [
      "\u001b[0;36m  Input \u001b[0;32mIn [2]\u001b[0;36m\u001b[0m\n\u001b[0;31m    jupyter kernelspec list\u001b[0m\n\u001b[0m            ^\u001b[0m\n\u001b[0;31mSyntaxError\u001b[0m\u001b[0;31m:\u001b[0m invalid syntax\n"
     ]
    }
   ],
   "source": [
    "jupyter kernelspec list"
   ]
  },
  {
   "cell_type": "code",
   "execution_count": 1,
   "id": "7ab997b6",
   "metadata": {},
   "outputs": [
    {
     "name": "stdout",
     "output_type": "stream",
     "text": [
      "Package           Version\n",
      "----------------- -------\n",
      "appnope           0.1.3\n",
      "asttokens         2.2.1\n",
      "backcall          0.2.0\n",
      "comm              0.1.3\n",
      "debugpy           1.6.6\n",
      "decorator         5.1.1\n",
      "executing         1.2.0\n",
      "ipykernel         6.22.0\n",
      "ipython           8.11.0\n",
      "jedi              0.18.2\n",
      "jupyter_client    8.1.0\n",
      "jupyter_core      5.3.0\n",
      "matplotlib-inline 0.1.6\n",
      "nest-asyncio      1.5.6\n",
      "packaging         23.0\n",
      "parso             0.8.3\n",
      "pexpect           4.8.0\n",
      "pickleshare       0.7.5\n",
      "pip               23.0.1\n",
      "platformdirs      3.1.1\n",
      "prompt-toolkit    3.0.38\n",
      "psutil            5.9.4\n",
      "ptyprocess        0.7.0\n",
      "pure-eval         0.2.2\n",
      "Pygments          2.14.0\n",
      "python-dateutil   2.8.2\n",
      "pyzmq             25.0.2\n",
      "setuptools        63.2.0\n",
      "six               1.16.0\n",
      "stack-data        0.6.2\n",
      "tornado           6.2\n",
      "traitlets         5.9.0\n",
      "wcwidth           0.2.6\n",
      "Note: you may need to restart the kernel to use updated packages.\n"
     ]
    }
   ],
   "source": [
    "pip list"
   ]
  }
 ],
 "metadata": {
  "kernelspec": {
   "display_name": "academyvenv",
   "language": "python",
   "name": "academyvenv"
  },
  "language_info": {
   "codemirror_mode": {
    "name": "ipython",
    "version": 3
   },
   "file_extension": ".py",
   "mimetype": "text/x-python",
   "name": "python",
   "nbconvert_exporter": "python",
   "pygments_lexer": "ipython3",
   "version": "3.10.6"
  }
 },
 "nbformat": 4,
 "nbformat_minor": 5
}
